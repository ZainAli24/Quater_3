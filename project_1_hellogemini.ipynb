{
  "nbformat": 4,
  "nbformat_minor": 0,
  "metadata": {
    "colab": {
      "provenance": [],
      "toc_visible": true,
      "authorship_tag": "ABX9TyMbMpjMzsSt3fRh4goE6Hlk",
      "include_colab_link": true
    },
    "kernelspec": {
      "name": "python3",
      "display_name": "Python 3"
    },
    "language_info": {
      "name": "python"
    }
  },
  "cells": [
    {
      "cell_type": "markdown",
      "metadata": {
        "id": "view-in-github",
        "colab_type": "text"
      },
      "source": [
        "<a href=\"https://colab.research.google.com/github/ZainAli24/Quater_3/blob/main/project_1_hellogemini.ipynb\" target=\"_parent\"><img src=\"https://colab.research.google.com/assets/colab-badge.svg\" alt=\"Open In Colab\"/></a>"
      ]
    },
    {
      "cell_type": "markdown",
      "source": [
        "# **Project 1**: LangChain Hello World Project"
      ],
      "metadata": {
        "id": "goGszlCXtSca"
      }
    },
    {
      "cell_type": "code",
      "execution_count": 6,
      "metadata": {
        "colab": {
          "base_uri": "https://localhost:8080/"
        },
        "id": "eIg_TPFkq9wg",
        "outputId": "ce5213d4-19fc-4f3f-9dd5-31b0fe4a9fa6"
      },
      "outputs": [
        {
          "output_type": "stream",
          "name": "stdout",
          "text": [
            "Input: car\n",
            "Answer: I'm sorry, but my expertise is limited to web development.  \"Car\" is outside the scope of my knowledge base.  If you have any questions related to web development, such as website design, programming languages, hosting, or any other web-related topic, please feel free to ask, and I'll do my best to assist you.\n",
            "\n",
            "Input: react in frontend\n",
            "Answer: React is a popular JavaScript library for building user interfaces (UIs) for web applications.  Can you tell me more about what you'd like to know about using React in the frontend?  For example, are you having trouble with a specific component, state management, routing, or something else?  The more detail you can provide, the better I can assist you.\n",
            "\n",
            "Input: mongo is dataase\n",
            "Answer: While MongoDB is a popular database,  my expertise is specifically in web development.  To best assist you, I can help with questions related to integrating MongoDB *into* a web application, such as how to connect a React frontend to a MongoDB backend using Node.js, or how to handle database queries within a web application's architecture.\n",
            "\n",
            "If you have questions about using MongoDB in a web development context, please provide more details about your specific needs.  Otherwise, I may not be the best resource for your query.\n",
            "\n",
            "Input: which question in was ask\n",
            "Answer: I understand you're asking which questions were previously asked.  The previous questions were about:\n",
            "\n",
            "1.  Cars (a topic outside my area of expertise).\n",
            "2.  Using React in frontend development.\n",
            "3.  MongoDB as a database (specifically its use within a web application).\n",
            "\n",
            "If you have any further questions related to web development, please don't hesitate to ask.  If your question is not web development related, I may not be able to assist you.\n",
            "\n",
            "Input: thats cool\n",
            "Answer: Thanks!  Is there anything I can help you with regarding web development?\n",
            "\n",
            "Input: exit\n",
            "Conversation ended.\n"
          ]
        }
      ],
      "source": [
        "!pip install -qU langchain_google_genai\n",
        "\n",
        "from langchain_google_genai import ChatGoogleGenerativeAI\n",
        "from langchain.prompts import PromptTemplate\n",
        "from langchain.chains import LLMChain\n",
        "from langchain.memory import ConversationBufferMemory\n",
        "\n",
        "from google.colab import userdata\n",
        "GOOGLE_API_KEY = userdata.get('GOOGLE_API_KEY')\n",
        "\n",
        "# Configuration for the LLM\n",
        "llm = ChatGoogleGenerativeAI(\n",
        "    model=\"gemini-1.5-flash\",\n",
        "    api_key=GOOGLE_API_KEY,\n",
        "    temperature=0.9,\n",
        "    max_output_tokens=2500,\n",
        ")\n",
        "\n",
        "# Initialize memory\n",
        "memory = ConversationBufferMemory()\n",
        "\n",
        "# Create the PromptTemplate\n",
        "template = PromptTemplate(\n",
        "    input_variables=[\"history\" , \"query\"],\n",
        "    template = \"\"\"Previous history:\\n\\n{history}\\n\n",
        "You are a customer support agent specializing in the web development field.\n",
        "Please respond to the following query in a polite and professional manner:\n",
        "{query}\n",
        "If the query is unrelated to web development, politely inform the user that you are here to assist only with web development-related questions.\n",
        "\"\"\"\n",
        ")\n",
        "\n",
        "# Create the ConversationChain\n",
        "chain = LLMChain(\n",
        "    llm=llm,\n",
        "    prompt=template,\n",
        "    memory=memory,\n",
        ")\n",
        "\n",
        "while True:\n",
        "    user_input = input(f\"Input: \")\n",
        "    if user_input.lower() == \"exit\":\n",
        "        break\n",
        "    else:\n",
        "        # Running the chain\n",
        "        response = chain.run(user_input)\n",
        "        print(f\"Answer: {response}\")\n",
        "\n",
        "print(\"Conversation ended.\")\n"
      ]
    }
  ]
}